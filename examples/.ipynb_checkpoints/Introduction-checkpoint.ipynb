{
 "cells": [
  {
   "cell_type": "markdown",
   "id": "68fe1eea",
   "metadata": {},
   "source": [
    "# EcoMath Introduction\n",
    "In this notebook we will explore some of the basic functionality of the EcoMath.jl library that is currently under development. This project has it's origin in the postgraduate Ecological Mathematics course taught by Dr. Marco Tulio Angulo at the National Autonomous University of Mexico. \n",
    "\n",
    "\n",
    "We begin by loading the main module and creating some synthetic data."
   ]
  },
  {
   "cell_type": "code",
   "execution_count": null,
   "id": "ba4cb1f0",
   "metadata": {},
   "outputs": [],
   "source": [
    "include(joinpath(dirname(@__DIR__), joinpath(\"src\", \"EcoMath.jl\")));\n",
    "using LinearAlgebra: eigvals\n",
    "using Random\n",
    "using Logging\n",
    "\n",
    "Random.seed!(14);"
   ]
  },
  {
   "cell_type": "markdown",
   "id": "2b1ed3d1",
   "metadata": {},
   "source": [
    "## Competetive Lotka-Voltera\n",
    "\n",
    "We center our analysis on the [Competetive Lotka-Voltera model](https://en.wikipedia.org/wiki/Competitive_Lotka%E2%80%93Volterra_equations):\n",
    "\n",
    "$$\n",
    "\\dot N= N ⊙ r ⊙ (1 - (A × N))\n",
    "$$\n",
    "Where N is the population of each species in vector form, $A=\\{c_{ij}\\}_{nxn}$ the species's interaction matrix, with $c_{ij}$ representing the effect of the j$^{th}$ species ($s_j$) on the i$^{th}$ species ($s_i$). Where $r$ is the per-capita growth rate of each species in vector form and $\\odot$ is the Hadamard or elementwise product.\n",
    "\n",
    "### Simple Example\n",
    "Most of the modules functions have default parameter values that can help in understanding their use without too much effort. Let's explore the following model:\n",
    "\n",
    "$$\n",
    "N = \\left(\\begin{matrix}\n",
    "    c_{11} & c_{12} \\\\\n",
    "    c_{21}  & c_{22}\n",
    "    \\end{matrix} \\right) =\n",
    "    \\left( \\begin{matrix}\n",
    "    1 & 0.4 \\\\\n",
    "    0.5 & 1 \n",
    "    \\end{matrix} \\right) \n",
    "$$  \n",
    "$$\n",
    "r = \\left( r_1, r_2 \\right) = \\left( 10, 12\\right)\n",
    "$$\n",
    "\n",
    "With initial population values of $u_0=(0.5, 0.3)$. This is the default for the $\\texttt{simulate_spec}$ function."
   ]
  },
  {
   "cell_type": "code",
   "execution_count": 2,
   "id": "3be01f01",
   "metadata": {},
   "outputs": [
    {
     "ename": "LoadError",
     "evalue": "UndefVarError: simulate_spec not defined",
     "output_type": "error",
     "traceback": [
      "UndefVarError: simulate_spec not defined",
      "",
      "Stacktrace:",
      " [1] top-level scope",
      "   @ In[2]:2",
      " [2] eval",
      "   @ ./boot.jl:373 [inlined]",
      " [3] include_string(mapexpr::typeof(REPL.softscope), mod::Module, code::String, filename::String)",
      "   @ Base ./loading.jl:1196"
     ]
    }
   ],
   "source": [
    "t = LinRange(0, 1, 40)\n",
    "data, prob, p = simulate_spec(mult_spec; t=t, noise = 1.5, return_params=true);\n",
    "simulation_plotter(data, prob, p, t)"
   ]
  },
  {
   "cell_type": "markdown",
   "id": "93ea3ecd",
   "metadata": {},
   "source": [
    "## More Complex Systems\n",
    "\n",
    "Given that our model is in vectorized form, we can simulate an ecosystem with an arbitrary number of species. Let's look at an example with four ($n=4$) species."
   ]
  },
  {
   "cell_type": "code",
   "execution_count": 3,
   "id": "bdaa4cdf",
   "metadata": {},
   "outputs": [
    {
     "ename": "LoadError",
     "evalue": "UndefVarError: simulate_spec not defined",
     "output_type": "error",
     "traceback": [
      "UndefVarError: simulate_spec not defined",
      "",
      "Stacktrace:",
      " [1] top-level scope",
      "   @ In[3]:9",
      " [2] eval",
      "   @ ./boot.jl:373 [inlined]",
      " [3] include_string(mapexpr::typeof(REPL.softscope), mod::Module, code::String, filename::String)",
      "   @ Base ./loading.jl:1196"
     ]
    }
   ],
   "source": [
    "t = LinRange(0, 3, 40)\n",
    "r = [10, 12, 8, 15]\n",
    "u0 = [0.4, 0.9, 0.1, 0.3]\n",
    "A = [1.0 0.3 0.2 0.5\n",
    "     0.3 1.0 0.6 0.6\n",
    "     0.3 0.5 1.0 0.7\n",
    "     0.3 0.9 0.6 1.0]\n",
    "\n",
    "data, prob, p = simulate_spec(mult_spec; noise = 10, t=t, r=r, A=A, u0=u0, return_params=true);\n",
    "simulation_plotter(data, prob, p, t)"
   ]
  },
  {
   "cell_type": "markdown",
   "id": "9dc715df",
   "metadata": {},
   "source": [
    "With very little code we are able to solve a competitive lotka-volterra system and plot simulated noisy observations of that system. \n",
    "\n",
    "We observe that while species 1-3 converge to a stable population value, species 4 seems to die out. This was infact entirely predictable given that we know that to create a stable ecosystem, $N$ must have all positive eigenvalues. As we can see below, this is not the case in our example."
   ]
  },
  {
   "cell_type": "code",
   "execution_count": 4,
   "id": "1b9cccf8",
   "metadata": {},
   "outputs": [
    {
     "ename": "LoadError",
     "evalue": "UndefVarError: eigvals not defined",
     "output_type": "error",
     "traceback": [
      "UndefVarError: eigvals not defined",
      "",
      "Stacktrace:",
      " [1] top-level scope",
      "   @ In[4]:1",
      " [2] eval",
      "   @ ./boot.jl:373 [inlined]",
      " [3] include_string(mapexpr::typeof(REPL.softscope), mod::Module, code::String, filename::String)",
      "   @ Base ./loading.jl:1196"
     ]
    }
   ],
   "source": [
    "eigvals(A)"
   ]
  },
  {
   "cell_type": "markdown",
   "id": "c2b5b11c",
   "metadata": {},
   "source": [
    "## Retrodiction\n",
    "Now, let's say you have a set of observations from a competitive ecological system and would like to infer the underlying CLV model parameters. We can leverage Turing.jl to perform [Bayesian parameter estimation](https://turing.ml/dev/tutorials/10-bayesian-differential-equations/). The benefit of this approach is that we also obtain an easily interpretable measure of uncertainty in our estimates.\n",
    "\n",
    "We begin by defining our prior or baseline belief for the system. In this case we set:\n",
    "\n",
    "$$\n",
    "c_{ij} =\n",
    "\\begin{cases}\n",
    "1    &\\text{ if} \\;\\; i=j\\\\\n",
    "0.5  &\\text{ otherwise}\n",
    "\\end{cases}\n",
    "$$\n",
    "And $r_i = 5$ for all $i$."
   ]
  },
  {
   "cell_type": "code",
   "execution_count": 5,
   "id": "b5c48a4d",
   "metadata": {
    "scrolled": false
   },
   "outputs": [
    {
     "data": {
      "text/plain": [
       "4-element Vector{Int64}:\n",
       " 5\n",
       " 5\n",
       " 5\n",
       " 5"
      ]
     },
     "execution_count": 5,
     "metadata": {},
     "output_type": "execute_result"
    }
   ],
   "source": [
    "Aₚ = [1.0 0.5 0.5 0.5\n",
    "      0.5 1.0 0.5 0.5\n",
    "      0.5 0.5 1.0 0.5\n",
    "      0.5 0.5 0.5 1.0]\n",
    "# For efficiency the matrix must be flattened before passing it\n",
    "Aₚ = vec(Aₚ)\n",
    "rₚ = [5, 5, 5, 5]"
   ]
  },
  {
   "cell_type": "markdown",
   "id": "d189c219",
   "metadata": {},
   "source": [
    "With our priors, we define our prior model and run multiple Monte Carlo Markov Chains to find the distributions of parameters that best fit our model. In the cell below, we plot the estimated models from a sample of the most likely parameters from each chain. As we can see, this does a fairly good job of estimating the underlying system from which we generated the data, inspite of the large amount of noise we introduced."
   ]
  },
  {
   "cell_type": "code",
   "execution_count": 6,
   "id": "9e1aa016",
   "metadata": {},
   "outputs": [
    {
     "ename": "LoadError",
     "evalue": "UndefVarError: get_eco_model not defined",
     "output_type": "error",
     "traceback": [
      "UndefVarError: get_eco_model not defined",
      "",
      "Stacktrace:",
      " [1] top-level scope",
      "   @ In[6]:1",
      " [2] eval",
      "   @ ./boot.jl:373 [inlined]",
      " [3] include_string(mapexpr::typeof(REPL.softscope), mod::Module, code::String, filename::String)",
      "   @ Base ./loading.jl:1196"
     ]
    }
   ],
   "source": [
    "model = get_eco_model(data, prob, t, [Aₚ], [rₚ]);\n",
    "chain = Logging.with_logger(Logging.NullLogger()) do;\n",
    "            get_chain(model; iterations=1000, n_chains=2);\n",
    "end;"
   ]
  },
  {
   "cell_type": "code",
   "execution_count": 7,
   "id": "e0ee1a05",
   "metadata": {},
   "outputs": [
    {
     "ename": "LoadError",
     "evalue": "UndefVarError: chain_retrodiction not defined",
     "output_type": "error",
     "traceback": [
      "UndefVarError: chain_retrodiction not defined",
      "",
      "Stacktrace:",
      " [1] top-level scope",
      "   @ In[7]:1",
      " [2] eval",
      "   @ ./boot.jl:373 [inlined]",
      " [3] include_string(mapexpr::typeof(REPL.softscope), mod::Module, code::String, filename::String)",
      "   @ Base ./loading.jl:1196"
     ]
    }
   ],
   "source": [
    "predictions = chain_retrodiction(chain, t; n_samples=500);\n",
    "plot_retrodiction(predictions, t; data=data, alpha=0.1)"
   ]
  },
  {
   "cell_type": "markdown",
   "id": "71c18e33",
   "metadata": {},
   "source": [
    "We can plot the original systems and compare them to the estimated ones to get a better idea of how good our estimate is."
   ]
  },
  {
   "cell_type": "code",
   "execution_count": 8,
   "id": "4807bbb3",
   "metadata": {
    "scrolled": false
   },
   "outputs": [
    {
     "ename": "LoadError",
     "evalue": "UndefVarError: plot_retrodiction not defined",
     "output_type": "error",
     "traceback": [
      "UndefVarError: plot_retrodiction not defined",
      "",
      "Stacktrace:",
      " [1] top-level scope",
      "   @ In[8]:1",
      " [2] eval",
      "   @ ./boot.jl:373 [inlined]",
      " [3] include_string(mapexpr::typeof(REPL.softscope), mod::Module, code::String, filename::String)",
      "   @ Base ./loading.jl:1196"
     ]
    }
   ],
   "source": [
    "plt = plot_retrodiction(predictions, t; alpha=0.1, colors=\"#BBBBBB\")\n",
    "simulation_plotter(data, prob, p, t; points=false, sim_plot=plt, ln_kwargs=Dict(:linewidth => 3.5))"
   ]
  },
  {
   "cell_type": "markdown",
   "id": "49ec7a15",
   "metadata": {},
   "source": [
    "## Getting More From Your Model\n",
    "Those wishing to better understand what's going on behind the scenes can leverage Turing's extensive functionallity to plot a summary of the estimates."
   ]
  },
  {
   "cell_type": "code",
   "execution_count": 9,
   "id": "a8f46b71",
   "metadata": {},
   "outputs": [
    {
     "ename": "LoadError",
     "evalue": "UndefVarError: plot not defined",
     "output_type": "error",
     "traceback": [
      "UndefVarError: plot not defined",
      "",
      "Stacktrace:",
      " [1] top-level scope",
      "   @ In[9]:1",
      " [2] eval",
      "   @ ./boot.jl:373 [inlined]",
      " [3] include_string(mapexpr::typeof(REPL.softscope), mod::Module, code::String, filename::String)",
      "   @ Base ./loading.jl:1196"
     ]
    }
   ],
   "source": [
    "plot(chain)"
   ]
  }
 ],
 "metadata": {
  "kernelspec": {
   "display_name": "Julia 1.7.1",
   "language": "julia",
   "name": "julia-1.7"
  },
  "language_info": {
   "file_extension": ".jl",
   "mimetype": "application/julia",
   "name": "julia",
   "version": "1.7.1"
  }
 },
 "nbformat": 4,
 "nbformat_minor": 5
}
